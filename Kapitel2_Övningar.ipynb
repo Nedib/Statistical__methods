{
 "cells": [
  {
   "cell_type": "markdown",
   "metadata": {},
   "source": [
    "2:1, Händelserna A och B har sannolikheterna P(A) = 0,4 och P(B) = 0,7\n",
    "\n",
    "A, kan händelserna vara komplement?\n",
    "B, kan händelserna vara disjunkta?"
   ]
  },
  {
   "cell_type": "markdown",
   "metadata": {},
   "source": [
    "2:1\n",
    "SVAR:\n",
    "\n",
    "**A. Kan händelserna vara komplementära?**\n",
    "Två händelser är komplemntära om sannolikheten för deras förening är 1 och sannolikheten för deras gemensamma snitt är 0. \n",
    "\n",
    "I detta fall har jag P(A) = 0,4 och P (B) = 0,7. För att avgöra om de är komplementära, måste vi se om \n",
    "\\P(A\\ cup B) = P(A) + P(B) - P(A \\ cap B) = 1\\), och om \\ (P(A\\cap B) = 0 \\).\n",
    "\n",
    "Här är \\(P(A \\cup B) = P(A) + P(B) - P(A \\cap B) = 0,4 + 0,7 - P(A \\cap B)\\). Eftersom P(A) + P(B) är större än 1 (1,1 i det här fallet) kan de inte vara komplementära.\n",
    "\n",
    "**B. Kan händelserna vara disjunkta (inbördes uteslutande)?**\n",
    "\n",
    "Två händelser är disjunkta om deras gemensamma snitt är 0, det vill säga \\(P(A\\ cap B) = 0 \\)\n",
    "\n",
    "I detta fall har vi redan \\(P(A \\ cap B) = 0\\) (eftersom du gav P(A ∩ B) = 0). Så ja, händelserna A och B är disjunkta. \n",
    "\n",
    "**Förklaring:**\n",
    "- **Komplementära händelser:** Händelser är komplementära om de täcker hela utfallsrummet och inget gemensamt utfall. Här täcker A och B inte hela utfallsrummet tillsammans och har också några gemensamma utfall, så de är inte komplemtära. \n",
    "- **Disjunkta händelser:** Händelser är disjunkta om de inte har några gemensamma utfall. Här är \\(P(A\\cap B) = 0\\), vilket betyder att det inte finns några gemensamma utfall, så de är disjunkta. \n"
   ]
  },
  {
   "cell_type": "markdown",
   "metadata": {},
   "source": [
    "2:2, Två disjunkta händelser A och B har P(A) = 0,4, P(B) = 0,3. \n",
    "\n",
    "Vad blir P(A u B) och P(A n b )"
   ]
  },
  {
   "cell_type": "markdown",
   "metadata": {},
   "source": [
    "2:2\n",
    "\n",
    "SVAR: Vi har följande information:\n",
    "\\[P(A) = 0,4 \\]\n",
    "\\[P(B) = 0,3\\]\n",
    "\n",
    "För unionen \\(P (A\\ cup B\\) använder vi formeln:\n",
    "\\[ P(A \\cup B) = P(A) + P(B) - P(A \\cap B) \\]\n",
    "\n",
    "Vi har också \\( P(A \\cap B) = 0 \\), vilket innebär att händelserna är disjunkta (de kan inte inträffa samtidigt). Eftersom \\( P(A \\cap B) = 0 \\) blir formeln:\n",
    "\n",
    "\\[ P(A \\cup B) = 0,4 + 0,3 - 0 \\]\n",
    "\n",
    "Så,\n",
    "\n",
    "\\[ P(A \\cup B) = 0,7 \\]\n",
    "\n",
    "\n",
    "För snittet \\( P(A \\cap B) \\) är det redan givet att \\( P(A \\cap B) = 0 \\), vilket betyder att de två händelserna inte kan inträffa samtidigt.\n",
    "\n",
    "Sammanfattningsvis:\n",
    "\n",
    "\\[ P(A \\cup B) = 0,7 \\]\n",
    "\\[ P(A \\cap B) = 0 \\]\n"
   ]
  },
  {
   "cell_type": "markdown",
   "metadata": {},
   "source": [
    "2:3, För två händelser A och B vet vi att P(A) = 0,3 och P(A u b) = 0,5.\n",
    "\n",
    "A, kan det vara så att P(B) = 0,15\n",
    "B, Vad måste gälla för att det ska vara så att P(B) = 0,2? "
   ]
  },
  {
   "cell_type": "markdown",
   "metadata": {},
   "source": [
    "2:4\n",
    "När Lars skjuter straffar i fotboll blir det mål 8 gånger av 10. Lars skjuter dock oftare till höger än till vänster om målvakten, så om målvakten går till höger blir det mål 9 gånger av 10. Målvakterna känner emellantid till detta, varför sannolikheten att de går åt höger är 75%. Nu har Lars just missat en straff. Hur sannolikt var det att målvakten gick åt höger. "
   ]
  },
  {
   "cell_type": "markdown",
   "metadata": {},
   "source": [
    "2:5\n",
    "Sture drar slumpmässigt ett kort från en vanlig kortlek med 52 kort utan att titta. Stures kompis Allan drar sedan ett kort från de återstående korten utan att titta. \n",
    "\n",
    "A, Vad är sannolikheten att Sture har ruter 10?\n",
    "B, Vad är sannolikheten att Allan har ruter 10\n",
    "c, Om Allan vänder upp sitt kort och det visar sig vara klöver 2, hur sannolikt är det att Stures kort är ruter 10? "
   ]
  }
 ],
 "metadata": {
  "kernelspec": {
   "display_name": "Python 3",
   "language": "python",
   "name": "python3"
  },
  "language_info": {
   "name": "python",
   "version": "3.11.5"
  }
 },
 "nbformat": 4,
 "nbformat_minor": 2
}
